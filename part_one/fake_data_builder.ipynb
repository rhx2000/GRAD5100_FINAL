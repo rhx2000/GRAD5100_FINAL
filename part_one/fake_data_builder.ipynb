{
 "cells": [
  {
   "cell_type": "markdown",
   "id": "7b614eef",
   "metadata": {},
   "source": [
    "# Part One"
   ]
  },
  {
   "cell_type": "markdown",
   "id": "d6227bdc",
   "metadata": {},
   "source": [
    "## 1.Create a dataframe or tibble representing this dataset that has the desired properties."
   ]
  },
  {
   "cell_type": "code",
   "execution_count": 1,
   "id": "82371331",
   "metadata": {},
   "outputs": [],
   "source": [
    "import pandas as pd\n",
    "import numpy as np\n",
    "import random\n",
    "ID = []\n",
    "Group = []\n",
    "Feature_1 = np.zeros(800)\n",
    "Feature_2 = np.zeros(800)\n",
    "Feature_3 = np.zeros(800)"
   ]
  },
  {
   "cell_type": "code",
   "execution_count": 2,
   "id": "338f6067",
   "metadata": {},
   "outputs": [],
   "source": [
    "for i in range(800):\n",
    "    ID.append(f\"ID{i:03d}\")"
   ]
  },
  {
   "cell_type": "code",
   "execution_count": 3,
   "id": "49ec15dc",
   "metadata": {},
   "outputs": [],
   "source": [
    "elements = ['A', 'B', 'C']\n",
    "for i in range(800):\n",
    "    Group.append(random.choice(elements))\n",
    "Group = pd.Series(Group)"
   ]
  },
  {
   "cell_type": "code",
   "execution_count": 4,
   "id": "67b18832",
   "metadata": {},
   "outputs": [],
   "source": [
    "np.random.seed(42)\n",
    "from scipy.stats import norm\n",
    "probability = 0.83\n",
    "mean = 0\n",
    "std_dev = 1\n",
    "quantile = norm.ppf(probability, loc=mean, scale=std_dev)\n",
    "std = 300 / quantile\n",
    "Feature_1 = norm.rvs(loc=2500, scale=std, size=800)"
   ]
  },
  {
   "cell_type": "code",
   "execution_count": 5,
   "id": "0460ee6d",
   "metadata": {},
   "outputs": [
    {
     "data": {
      "text/plain": [
       "541"
      ]
     },
     "execution_count": 5,
     "metadata": {},
     "output_type": "execute_result"
    }
   ],
   "source": [
    "len(Feature_1[(Feature_1>=2200) & (Feature_1<=2800)])"
   ]
  },
  {
   "cell_type": "code",
   "execution_count": 6,
   "id": "bc6967e1",
   "metadata": {},
   "outputs": [
    {
     "data": {
      "text/plain": [
       "0.9541652531461943"
      ]
     },
     "execution_count": 6,
     "metadata": {},
     "output_type": "execute_result"
    }
   ],
   "source": [
    "norm.ppf(probability, loc=mean, scale=std_dev)"
   ]
  },
  {
   "cell_type": "code",
   "execution_count": 7,
   "id": "2eb030d6",
   "metadata": {},
   "outputs": [],
   "source": [
    "Feature_2 = norm.rvs(loc=400, scale=15, size=800)"
   ]
  },
  {
   "cell_type": "code",
   "execution_count": 8,
   "id": "6675abcd",
   "metadata": {},
   "outputs": [],
   "source": [
    "fake_data= pd.DataFrame({'ID': ID, 'Group': Group, 'Feature_1': Feature_1, 'Feature_2': Feature_2, 'Feature_3': Feature_3})"
   ]
  },
  {
   "cell_type": "code",
   "execution_count": 9,
   "id": "44b2642a",
   "metadata": {},
   "outputs": [
    {
     "name": "stderr",
     "output_type": "stream",
     "text": [
      "/var/folders/b2/227vk7ns3v17qppyllj3sbbc0000gn/T/ipykernel_9532/1334885391.py:5: SettingWithCopyWarning: \n",
      "A value is trying to be set on a copy of a slice from a DataFrame\n",
      "\n",
      "See the caveats in the documentation: https://pandas.pydata.org/pandas-docs/stable/user_guide/indexing.html#returning-a-view-versus-a-copy\n",
      "  fake_data['Feature_3'][i] = 2 * fake_data['Feature_1'][i]\n",
      "/var/folders/b2/227vk7ns3v17qppyllj3sbbc0000gn/T/ipykernel_9532/1334885391.py:3: SettingWithCopyWarning: \n",
      "A value is trying to be set on a copy of a slice from a DataFrame\n",
      "\n",
      "See the caveats in the documentation: https://pandas.pydata.org/pandas-docs/stable/user_guide/indexing.html#returning-a-view-versus-a-copy\n",
      "  fake_data['Feature_3'][i] = 3 * fake_data['Feature_1'][i]-5 * fake_data['Feature_2'][i]\n",
      "/var/folders/b2/227vk7ns3v17qppyllj3sbbc0000gn/T/ipykernel_9532/1334885391.py:7: SettingWithCopyWarning: \n",
      "A value is trying to be set on a copy of a slice from a DataFrame\n",
      "\n",
      "See the caveats in the documentation: https://pandas.pydata.org/pandas-docs/stable/user_guide/indexing.html#returning-a-view-versus-a-copy\n",
      "  fake_data['Feature_3'][i] = -fake_data['Feature_1'][i] + fake_data['Feature_2'][i]\n"
     ]
    }
   ],
   "source": [
    "for i in range(800):\n",
    "    if fake_data['Group'][i] == 'A':\n",
    "        fake_data['Feature_3'][i] = 3 * fake_data['Feature_1'][i]-5 * fake_data['Feature_2'][i]\n",
    "    if fake_data['Group'][i] == 'B':\n",
    "        fake_data['Feature_3'][i] = 2 * fake_data['Feature_1'][i]\n",
    "    if fake_data['Group'][i] == 'C':\n",
    "        fake_data['Feature_3'][i] = -fake_data['Feature_1'][i] + fake_data['Feature_2'][i]"
   ]
  },
  {
   "cell_type": "code",
   "execution_count": 10,
   "id": "456fbe5b",
   "metadata": {},
   "outputs": [],
   "source": [
    "random_column = np.random.normal(loc=0, scale=12, size=800)\n",
    "fake_data['Feature_3'] = fake_data['Feature_3'] + random_column"
   ]
  },
  {
   "cell_type": "markdown",
   "id": "746d40d8",
   "metadata": {},
   "source": [
    "## 2. Answer the following questions:"
   ]
  },
  {
   "cell_type": "markdown",
   "id": "e030acba",
   "metadata": {},
   "source": [
    "### a. Based on the theoretical distribution of Feature_1, how many samples do you expect to find where the value of the feature is greater than 3000?"
   ]
  },
  {
   "cell_type": "code",
   "execution_count": 12,
   "id": "e23024c0",
   "metadata": {},
   "outputs": [
    {
     "data": {
      "text/plain": [
       "44.70909448623112"
      ]
     },
     "execution_count": 12,
     "metadata": {},
     "output_type": "execute_result"
    }
   ],
   "source": [
    "(1-norm.cdf(3000, loc=2500, scale=std)) * 800"
   ]
  },
  {
   "cell_type": "markdown",
   "id": "6dbc4219",
   "metadata": {},
   "source": [
    "### b. How many samples did you actually find where Feature_1 is greater than 3000?"
   ]
  },
  {
   "cell_type": "code",
   "execution_count": 13,
   "id": "633eb7e0",
   "metadata": {},
   "outputs": [
    {
     "data": {
      "text/plain": [
       "45"
      ]
     },
     "execution_count": 13,
     "metadata": {},
     "output_type": "execute_result"
    }
   ],
   "source": [
    "len(Feature_1[Feature_1>3000])"
   ]
  },
  {
   "cell_type": "markdown",
   "id": "b09b19a3",
   "metadata": {},
   "source": [
    "### c. Group the dataset by the Group field and compute the mean and standard deviation of Feature_3 within each group."
   ]
  },
  {
   "cell_type": "code",
   "execution_count": 14,
   "id": "90a2851e",
   "metadata": {},
   "outputs": [
    {
     "name": "stdout",
     "output_type": "stream",
     "text": [
      "The mean of Group A is 5496.0181750080765, and the standard deviation of Group A is 935.1880882453734\n",
      "The mean of Group B is 4980.57528662655, and the standard deviation of Group B is 650.6599964191759\n",
      "The mean of Group C is -2099.229289698951, and the standard deviation of Group C is 290.6861745582287\n"
     ]
    }
   ],
   "source": [
    "Group_A = fake_data[fake_data['Group'] == 'A']\n",
    "Group_B = fake_data[fake_data['Group'] == 'B']\n",
    "Group_C = fake_data[fake_data['Group'] == 'C']\n",
    "mean_A = Group_A['Feature_3'].mean()\n",
    "std_A = Group_A['Feature_3'].std()\n",
    "mean_B = Group_B['Feature_3'].mean()\n",
    "std_B = Group_B['Feature_3'].std()\n",
    "mean_C = Group_C['Feature_3'].mean()\n",
    "std_C = Group_C['Feature_3'].std()\n",
    "print(f\"The mean of Group A is {mean_A}, and the standard deviation of Group A is {std_A}\")\n",
    "print(f\"The mean of Group B is {mean_B}, and the standard deviation of Group B is {std_B}\")\n",
    "print(f\"The mean of Group C is {mean_C}, and the standard deviation of Group C is {std_C}\")"
   ]
  },
  {
   "cell_type": "markdown",
   "id": "ee7cf62f",
   "metadata": {},
   "source": [
    "## 3. Make a scatterplot of Feature_3 vs Feature_1."
   ]
  },
  {
   "cell_type": "code",
   "execution_count": 15,
   "id": "43256adf",
   "metadata": {},
   "outputs": [
    {
     "data": {
      "image/png": "[encoded data removed]",
      "text/plain": [
       "<Figure size 640x480 with 1 Axes>"
      ]
     },
     "metadata": {},
     "output_type": "display_data"
    }
   ],
   "source": [
    "import pandas as pd\n",
    "import matplotlib.pyplot as plt\n",
    "plt.scatter(fake_data['Feature_1'], fake_data['Feature_3'], s=10, alpha=0.5)\n",
    "plt.xlabel('Feature_1')\n",
    "plt.ylabel('Feature_3')\n",
    "plt.title('Scatter Plot of Feature_3 vs Feature_1')\n",
    "plt.show()"
   ]
  },
  {
   "cell_type": "markdown",
   "id": "6664e961",
   "metadata": {},
   "source": [
    "## 4. Write your constructed dataframe/tibble to a csv file called fake_data.csv."
   ]
  },
  {
   "cell_type": "code",
   "execution_count": 16,
   "id": "1ef09391",
   "metadata": {},
   "outputs": [],
   "source": [
    "fake_data.to_csv('fake_data.csv',index=False)"
   ]
  }
 ],
 "metadata": {
  "kernelspec": {
   "display_name": "Python 3 (ipykernel)",
   "language": "python",
   "name": "python3"
  },
  "language_info": {
   "codemirror_mode": {
    "name": "ipython",
    "version": 3
   },
   "file_extension": ".py",
   "mimetype": "text/x-python",
   "name": "python",
   "nbconvert_exporter": "python",
   "pygments_lexer": "ipython3",
   "version": "3.11.4"
  }
 },
 "nbformat": 4,
 "nbformat_minor": 5
}
