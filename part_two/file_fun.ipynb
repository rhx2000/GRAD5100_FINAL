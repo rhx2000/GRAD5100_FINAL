{
 "cells": [
  {
   "cell_type": "code",
   "execution_count": null,
   "id": "d547b11b",
   "metadata": {},
   "outputs": [],
   "source": []
  },
  {
   "cell_type": "markdown",
   "id": "98309704",
   "metadata": {},
   "source": [
    "# PART TWO"
   ]
  },
  {
   "cell_type": "code",
   "execution_count": 4,
   "id": "7f194a27",
   "metadata": {},
   "outputs": [],
   "source": [
    "codes = []\n",
    "with open('codes.txt', 'r') as file:\n",
    "    lines = file.readlines()\n",
    "for line in lines:\n",
    "    codes.append(line.strip())"
   ]
  },
  {
   "cell_type": "markdown",
   "id": "ec0660fa",
   "metadata": {},
   "source": [
    "## 1. Write a function that takes a string of this form, extracts the alphabetic code nnnnn and the extension and returns a string of the form nnnnn.extension. So, for example, given ‘35538_YLTRR_csv’ it returns ‘YLTRR.csv’."
   ]
  },
  {
   "cell_type": "code",
   "execution_count": 6,
   "id": "8472b103",
   "metadata": {},
   "outputs": [],
   "source": [
    "import re\n",
    "def transform(codes):\n",
    "    codes_new = []\n",
    "    for code in codes:\n",
    "        code_new = re.sub(r'\\d+_', '', code)\n",
    "        code_new = code_new.replace('_', '.')\n",
    "        codes_new.append(code_new)\n",
    "    return codes_new"
   ]
  },
  {
   "cell_type": "markdown",
   "id": "b69cb1d0",
   "metadata": {},
   "source": [
    "## 2. Using your function, write code that reads in the entries from codes.txt and for each code writes the 5 digit number xxxxx into a file named nnnnn.extension constructed by your function in part 1. All of these files should be contained in a subdirectory of your main project directory called ‘expanded’. So for example, you would create a file called expanded/YLTRR.csv containing (just) 35538."
   ]
  },
  {
   "cell_type": "code",
   "execution_count": 16,
   "id": "593897bb",
   "metadata": {},
   "outputs": [],
   "source": [
    "import os\n",
    "output_directory = 'expanded'\n",
    "os.makedirs(output_directory, exist_ok=True)\n",
    "with open('codes.txt', 'r') as file:\n",
    "    lines = file.readlines()\n",
    "codes = []\n",
    "for line in lines:\n",
    "    codes.append(line.strip())\n",
    "digits = []\n",
    "for code in codes:\n",
    "    digits.append(code[:5])\n",
    "filenames = transform(codes)\n",
    "for i in range(len(codes)):\n",
    "    filename = filenames[i]\n",
    "    digit = digits[i]\n",
    "    filepath = os.path.join(output_directory, filename)\n",
    "    with open(filepath, 'w') as output_file:\n",
    "        output_file.write(digit)"
   ]
  },
  {
   "cell_type": "code",
   "execution_count": null,
   "id": "4454e3d7",
   "metadata": {},
   "outputs": [],
   "source": []
  }
 ],
 "metadata": {
  "kernelspec": {
   "display_name": "Python 3 (ipykernel)",
   "language": "python",
   "name": "python3"
  },
  "language_info": {
   "codemirror_mode": {
    "name": "ipython",
    "version": 3
   },
   "file_extension": ".py",
   "mimetype": "text/x-python",
   "name": "python",
   "nbconvert_exporter": "python",
   "pygments_lexer": "ipython3",
   "version": "3.11.4"
  }
 },
 "nbformat": 4,
 "nbformat_minor": 5
}
